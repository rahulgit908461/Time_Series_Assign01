{
 "cells": [
  {
   "cell_type": "code",
   "execution_count": 1,
   "id": "d68d3642-b7fa-44c1-a021-a02a728d3602",
   "metadata": {},
   "outputs": [],
   "source": [
    "#Q1. What is a time series, and what are some common applications of time series analysis?"
   ]
  },
  {
   "cell_type": "code",
   "execution_count": 2,
   "id": "4222475e-4308-4c2e-8df8-7bf27ee60bb2",
   "metadata": {},
   "outputs": [],
   "source": [
    "#Time series analysis is used for non-stationary data—things that are constantly fluctuating over time or are\n",
    "#affected by time. Industries like finance, retail, and economics frequently use time series analysis because \n",
    "#currency and sales are always changing.\n",
    "#Time Series Analysis is used for many applications such as:\n",
    "#Economic Forecasting.\n",
    "#Sales Forecasting.\n",
    "#Budgetary Analysis.\n",
    "#Stock Market Analysis.\n",
    "#Yield Projections.\n",
    "#Process and Quality Control.\n",
    "#Inventory Studies.\n",
    "#Workload Projections."
   ]
  },
  {
   "cell_type": "code",
   "execution_count": 3,
   "id": "0124b4ce-7bf2-4995-a538-a6ed2e8148d2",
   "metadata": {},
   "outputs": [],
   "source": [
    "#Q2. What are some common time series patterns, and how can they be identified and interpreted?"
   ]
  },
  {
   "cell_type": "code",
   "execution_count": 4,
   "id": "9313d3e4-daee-44c0-9023-a027472a0791",
   "metadata": {},
   "outputs": [],
   "source": [
    "# . Secular trend, which describe the movement along the term;\n",
    "# .Seasonal variations, which represent seasonal changes;\n",
    "# . Cyclical fluctuations, which correspond to periodical but not seasonal variations;\n",
    "# . Irregular variations, which are other nonrandom sources of variations of series.\n",
    "\n",
    "#Steps to Interpreting a Time Series Plot\n",
    "#Step 1: Determine the minimum and maximum of the plot.\n",
    "#Step 2: Determine if the data is consistent over time or changing from time period to time period.\n",
    "#Step 3: Summarize the information, to include minimum, maximum, trends, and outliers.\n"
   ]
  },
  {
   "cell_type": "code",
   "execution_count": 5,
   "id": "47486f18-c8e1-461a-b212-35ed29675be0",
   "metadata": {},
   "outputs": [],
   "source": [
    "#Q3. How can time series data be preprocessed before applying analysis techniques?"
   ]
  },
  {
   "cell_type": "code",
   "execution_count": 6,
   "id": "9d5b81b3-2449-4eae-a2b7-5c6f883b0a7b",
   "metadata": {},
   "outputs": [],
   "source": [
    "# In summary, we have done a few things to convert our data into a time series object:\n",
    "#1. converted the Month column from strings to datetime;\n",
    "#2. set the transformed datetime column as the index;\n",
    "#3. extracted year, month and weekday from the index and stored in new columns."
   ]
  },
  {
   "cell_type": "code",
   "execution_count": 7,
   "id": "7b2faa43-3d44-46cf-a4d8-118ba7a96907",
   "metadata": {},
   "outputs": [],
   "source": [
    "#Q4. How can time series forecasting be used in business decision-making, and what are some common\n",
    "#challenges and limitations?"
   ]
  },
  {
   "cell_type": "code",
   "execution_count": 8,
   "id": "864ebf2c-478b-4090-a3b9-15dee2983245",
   "metadata": {},
   "outputs": [],
   "source": [
    "#Time series forecasting is a technique for the prediction of events through a sequence of time. \n",
    "#It predicts future events by analyzing the trends of the past, on the assumption that future trends will hold \n",
    "#similar to historical trends. It is used across many fields of study in various applications including: Astronomy.\n",
    "\n",
    "# Limitation -The main disadvantage is that if a model has been built on historical data, it cannot be used to \n",
    "#predict future values or trends because no one can guarantee that the historical data will remain the same as \n",
    "#time passes."
   ]
  },
  {
   "cell_type": "code",
   "execution_count": 9,
   "id": "984ede99-6766-4fb4-8fa7-099185790873",
   "metadata": {},
   "outputs": [],
   "source": [
    "#Q5. What is ARIMA modelling, and how can it be used to forecast time series data?"
   ]
  },
  {
   "cell_type": "code",
   "execution_count": 10,
   "id": "70f0be51-7bc1-4fd6-acbe-5e7769deb938",
   "metadata": {},
   "outputs": [],
   "source": [
    "#An ARIMA model is a class of statistical models for analyzing and forecasting time series data. It explicitly \n",
    "#caters to a suite of standard structures in time series data, and as such provides a simple yet powerful method \n",
    "#for making skillful time series forecasts.\n",
    "\n",
    "#Uses -ARIMA models use differencing to convert a non-stationary time series into a stationary one, and then \n",
    "#predict future values from historical data. These models use “auto” correlations and moving averages over \n",
    "#residual errors in the data to forecast future values."
   ]
  },
  {
   "cell_type": "code",
   "execution_count": 11,
   "id": "c95de1aa-4d91-4651-ac7e-35107fca42b5",
   "metadata": {},
   "outputs": [],
   "source": [
    "#Q6. How do Autocorrelation Function (ACF) and Partial Autocorrelation Function (PACF) plots help in\n",
    "#identifying the order of ARIMA models?"
   ]
  },
  {
   "cell_type": "code",
   "execution_count": 12,
   "id": "6f9aa35c-cbfb-47e5-8717-3b374446178f",
   "metadata": {},
   "outputs": [],
   "source": [
    "#The basic guideline for interpreting the ACF and PACF plots are as following:\n",
    "#Look for tail off pattern in either ACF or PACF.\n",
    "#If tail off at ACF → AR model → Cut off at PACF will provide order p for AR(p).\n",
    "#If tail off at PACF → MA model → Cut off at ACF will provide order q for MA(q).\n",
    "\n",
    "#you can count the number of peaks in the graph where there is a sudden fall."
   ]
  },
  {
   "cell_type": "code",
   "execution_count": 13,
   "id": "52c92ed1-06bb-41a4-b158-7ab8d7724765",
   "metadata": {},
   "outputs": [],
   "source": [
    "#Q7. What are the assumptions of ARIMA models, and how can they be tested for in practice?"
   ]
  },
  {
   "cell_type": "code",
   "execution_count": 15,
   "id": "9cc46dd8-6dd8-4fed-bd38-63a9369ef1ae",
   "metadata": {},
   "outputs": [],
   "source": [
    "#Data should be stationary – by stationary it means that the properties of the series doesn't depend on the time \n",
    "#when it is captured. A white noise series and series with cyclic behavior can also be considered as stationary \n",
    "#series.\n",
    "#Data should be univariate – ARIMA works on a single variable.\n",
    "#Evaluate ARIMA Model\n",
    "#Split the dataset into training and test sets.\n",
    "#Walk the time steps in the test dataset. Train an ARIMA model. Make a one-step prediction. Store prediction;\n",
    "#get and store actual observation.\n",
    "#Calculate error score for predictions compared to expected values."
   ]
  },
  {
   "cell_type": "code",
   "execution_count": 16,
   "id": "6a5add0f-fa0a-4368-b400-a88e9a3534a0",
   "metadata": {},
   "outputs": [],
   "source": [
    "#Q9. What are some of the limitations of time series analysis? Provide an example of a scenario where the\n",
    "#limitations of time series analysis may be particularly relevant."
   ]
  },
  {
   "cell_type": "code",
   "execution_count": 17,
   "id": "cbd64dce-862d-43cb-93a7-cf3c5e6233f5",
   "metadata": {},
   "outputs": [],
   "source": [
    "#Disadvantages of Time Series Analysis\n",
    "\n",
    "#Time series analysis is not perfect. It can suffer from generalization from a single study where more data points\n",
    "#and models were warranted. Human error could misidentify the correct data model, which can have a snowballing \n",
    "#effect on the output.\n",
    "\n",
    "\n",
    "#Examples of time series analysis in action include: Weather data. Rainfall measurements. Temperature readings."
   ]
  },
  {
   "cell_type": "code",
   "execution_count": 18,
   "id": "628161e5-0c17-47fc-9fec-cfe57f3ae946",
   "metadata": {},
   "outputs": [],
   "source": [
    "#Q10. Explain the difference between a stationary and non-stationary time series. How does the stationarity\n",
    "#of a time series affect the choice of forecasting model?"
   ]
  },
  {
   "cell_type": "code",
   "execution_count": 19,
   "id": "18a34f15-2413-4d2d-aad4-4c4f95b92807",
   "metadata": {},
   "outputs": [],
   "source": [
    "#When a time series is stationary, it means that certain attributes of the data do not change over time. However, \n",
    "#some time series are non-stationary, whereby values and associations between and among variables do vary with\n",
    "#time. In finance, many processes are non-stationary, and so must be handled appropriate.\n",
    "\n",
    "#Stationarity is an important concept in the field of time series analysis with tremendous influence on how the \n",
    "#data is perceived and predicted. When forecasting or predicting the future, most time series models assume that \n",
    "#each point is independent of one another."
   ]
  },
  {
   "cell_type": "code",
   "execution_count": null,
   "id": "ee5d2bb8-0238-44c1-a246-bfd0435679a5",
   "metadata": {},
   "outputs": [],
   "source": []
  }
 ],
 "metadata": {
  "kernelspec": {
   "display_name": "Python 3 (ipykernel)",
   "language": "python",
   "name": "python3"
  },
  "language_info": {
   "codemirror_mode": {
    "name": "ipython",
    "version": 3
   },
   "file_extension": ".py",
   "mimetype": "text/x-python",
   "name": "python",
   "nbconvert_exporter": "python",
   "pygments_lexer": "ipython3",
   "version": "3.10.8"
  }
 },
 "nbformat": 4,
 "nbformat_minor": 5
}
